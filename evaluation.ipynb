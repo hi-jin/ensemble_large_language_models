{
 "cells": [
  {
   "cell_type": "code",
   "execution_count": 11,
   "metadata": {},
   "outputs": [],
   "source": [
    "from typing import List\n",
    "import numpy as np\n",
    "import pandas as pd\n",
    "import matplotlib.pyplot as plt\n",
    "import torch\n",
    "from torchmetrics import functional as FM"
   ]
  },
  {
   "cell_type": "code",
   "execution_count": 12,
   "metadata": {},
   "outputs": [],
   "source": [
    "csv_file_names = [\n",
    "    \"gpt-3.5-turbo_prompt-hash:-4438641459875887478.csv\",\n",
    "    \"gpt-3.5-turbo_prompt-hash:-6084743544292664102.csv\",\n",
    "    \"gpt-3.5-turbo_prompt-hash:6831420936002336113.csv\",\n",
    "    \"text-davinci-003_prompt-hash:8663000260178302303.csv\",\n",
    "    \"text-davinci-003_prompt-hash:5553732241831654062.csv\",\n",
    "    \"text-davinci-003_prompt-hash:195397119358237786.csv\",\n",
    "]\n",
    "\n",
    "csv_files_metrics = []"
   ]
  },
  {
   "cell_type": "code",
   "execution_count": 13,
   "metadata": {},
   "outputs": [],
   "source": [
    "for csv_file_name in csv_file_names:\n",
    "    df = pd.read_csv(csv_file_name)\n",
    "\n",
    "    label_to_idx = {}\n",
    "    idx_to_label = {}\n",
    "    for label in df[\"label\"].unique():\n",
    "        idx = len(label_to_idx)\n",
    "        label_to_idx[label] = idx\n",
    "        idx_to_label[idx] = label\n",
    "\n",
    "    label_to_idx[np.nan] = len(label_to_idx)\n",
    "    idx_to_label[len(idx_to_label)] = np.nan\n",
    "\n",
    "\n",
    "    metrics = {\n",
    "        \"csv_file_name\": csv_file_name,\n",
    "        \"used_prompt_example\": df[\"prompt\"][0],\n",
    "        \"answer_null_ratio\": df[\"answer\"].isna().sum() / len(df),\n",
    "        \"accuracy\": np.mean(df[\"answer\"] == df[\"label\"]),\n",
    "    }\n",
    "\n",
    "    csv_files_metrics.append(metrics)"
   ]
  },
  {
   "cell_type": "code",
   "execution_count": 14,
   "metadata": {},
   "outputs": [
    {
     "data": {
      "text/plain": [
       "[{'csv_file_name': 'gpt-3.5-turbo_prompt-hash:-4438641459875887478.csv',\n",
       "  'used_prompt_example': '주어진 input의 label을 분류하세요.\\\\n\\\\nlabel은 다음과 같습니다.\\\\n- IT과학\\\\n- 경제\\\\n- 사회\\\\n- 생활문화\\\\n- 세계\\\\n- 스포츠\\\\n- 정치\\\\n\\\\ninput: 5억원 무이자 융자는 되고 7천만원 이사비는 안된다\\\\nlabel:',\n",
       "  'answer_null_ratio': 0.005160865268474799,\n",
       "  'accuracy': 0.7001207862084111},\n",
       " {'csv_file_name': 'gpt-3.5-turbo_prompt-hash:-6084743544292664102.csv',\n",
       "  'used_prompt_example': 'input: 야외서 생방송 하세요…액션캠 전용 요금제 잇따라\\\\nlabel: IT과학\\\\n\\\\ninput: LGU＋ 1분기 영업익 1천706억원…마케팅 비용 감소종합\\\\nlabel: 경제\\\\n\\\\ninput: 내년부터 국가RD 평가 때 논문건수는 반영 않는다\\\\nlabel: 사회\\\\n\\\\ninput: 유튜브 내달 2일까지 크리에이터 지원 공간 운영\\\\nlabel: 생활문화\\\\n\\\\ninput: 왓츠앱稅 230원에 성난 레바논 민심…총리사퇴로 이어져종합2보\\\\nlabel: 세계\\\\n\\\\ninput: 월드컵 태극전사 16강 전초기지 레오강 입성종합\\\\nlabel: 스포츠\\\\n\\\\ninput: 정진석 이정현 당현실 냉정하게 봐야…물러나는게 좋다종합\\\\nlabel: 정치\\\\n\\\\ninput: 5억원 무이자 융자는 되고 7천만원 이사비는 안된다\\\\nlabel:',\n",
       "  'answer_null_ratio': 0.19435598989788075,\n",
       "  'accuracy': 0.641923794883057},\n",
       " {'csv_file_name': 'gpt-3.5-turbo_prompt-hash:6831420936002336113.csv',\n",
       "  'used_prompt_example': '다음 뉴스 기사 제목 \"5억원 무이자 융자는 되고 7천만원 이사비는 안된다\"이 IT과학, 경제, 사회, 생활문화, 세계, 스포츠, 정치 중 어느 카테고리에 가장 잘 맞을까요?\\\\n\\\\n카테고리: ',\n",
       "  'answer_null_ratio': 0.0678598879982431,\n",
       "  'accuracy': 0.6795871307785221},\n",
       " {'csv_file_name': 'text-davinci-003_prompt-hash:8663000260178302303.csv',\n",
       "  'used_prompt_example': '주어진 input의 label을 분류하세요.\\\\n\\\\nlabel은 다음과 같습니다.\\\\n- IT과학\\\\n- 경제\\\\n- 사회\\\\n- 생활문화\\\\n- 세계\\\\n- 스포츠\\\\n- 정치\\\\n\\\\ninput: 5억원 무이자 융자는 되고 7천만원 이사비는 안된다\\\\nlabel:',\n",
       "  'answer_null_ratio': 0.010541341824969803,\n",
       "  'accuracy': 0.6273196442297134},\n",
       " {'csv_file_name': 'text-davinci-003_prompt-hash:5553732241831654062.csv',\n",
       "  'used_prompt_example': 'input: 야외서 생방송 하세요…액션캠 전용 요금제 잇따라\\\\nlabel: IT과학\\\\n\\\\ninput: LGU＋ 1분기 영업익 1천706억원…마케팅 비용 감소종합\\\\nlabel: 경제\\\\n\\\\ninput: 내년부터 국가RD 평가 때 논문건수는 반영 않는다\\\\nlabel: 사회\\\\n\\\\ninput: 유튜브 내달 2일까지 크리에이터 지원 공간 운영\\\\nlabel: 생활문화\\\\n\\\\ninput: 왓츠앱稅 230원에 성난 레바논 민심…총리사퇴로 이어져종합2보\\\\nlabel: 세계\\\\n\\\\ninput: 월드컵 태극전사 16강 전초기지 레오강 입성종합\\\\nlabel: 스포츠\\\\n\\\\ninput: 정진석 이정현 당현실 냉정하게 봐야…물러나는게 좋다종합\\\\nlabel: 정치\\\\n\\\\ninput: 5억원 무이자 융자는 되고 7천만원 이사비는 안된다\\\\nlabel:',\n",
       "  'answer_null_ratio': 0.619413637860986,\n",
       "  'accuracy': 0.2767102229054573},\n",
       " {'csv_file_name': 'text-davinci-003_prompt-hash:195397119358237786.csv',\n",
       "  'used_prompt_example': '다음 뉴스 기사 제목 \"5억원 무이자 융자는 되고 7천만원 이사비는 안된다\"이 IT과학, 경제, 사회, 생활문화, 세계, 스포츠, 정치 중 어느 카테고리에 가장 잘 맞을까요?\\\\n\\\\n카테고리: ',\n",
       "  'answer_null_ratio': 0.16701438453936532,\n",
       "  'accuracy': 0.31448336444493247}]"
      ]
     },
     "execution_count": 14,
     "metadata": {},
     "output_type": "execute_result"
    }
   ],
   "source": [
    "csv_files_metrics"
   ]
  },
  {
   "cell_type": "code",
   "execution_count": 7,
   "metadata": {},
   "outputs": [
    {
     "data": {
      "text/plain": [
       "0.31448336444493247"
      ]
     },
     "execution_count": 7,
     "metadata": {},
     "output_type": "execute_result"
    }
   ],
   "source": []
  },
  {
   "cell_type": "code",
   "execution_count": null,
   "metadata": {},
   "outputs": [],
   "source": []
  }
 ],
 "metadata": {
  "kernelspec": {
   "display_name": "ensemble-openai-api-f6Yqpyce",
   "language": "python",
   "name": "python3"
  },
  "language_info": {
   "codemirror_mode": {
    "name": "ipython",
    "version": 3
   },
   "file_extension": ".py",
   "mimetype": "text/x-python",
   "name": "python",
   "nbconvert_exporter": "python",
   "pygments_lexer": "ipython3",
   "version": "3.7.17"
  },
  "orig_nbformat": 4
 },
 "nbformat": 4,
 "nbformat_minor": 2
}
